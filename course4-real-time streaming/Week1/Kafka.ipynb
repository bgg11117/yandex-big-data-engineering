{
 "cells": [
  {
   "cell_type": "code",
   "execution_count": 29,
   "metadata": {},
   "outputs": [
    {
     "name": "stdout",
     "output_type": "stream",
     "text": [
      "Created topic \"test-topic6\".\r\n"
     ]
    }
   ],
   "source": [
    "#Task 1. Create a topic with N partitons and M replications. E.g. N = 5, M = 2.\n",
    "! $KAFKA_HOME/bin/kafka-topics.sh --create --zookeeper localhost:2181 --replication-factor 2 --partitions 5 --topic test-topic6"
   ]
  },
  {
   "cell_type": "code",
   "execution_count": 30,
   "metadata": {},
   "outputs": [
    {
     "name": "stdout",
     "output_type": "stream",
     "text": [
      "__consumer_offsets\r\n",
      "my-topic\r\n",
      "test-topic\r\n",
      "test-topic1\r\n",
      "test-topic2\r\n",
      "test-topic3\r\n",
      "test-topic4\r\n",
      "test-topic5\r\n",
      "test-topic6\r\n",
      "test-toptopic3ic2\r\n"
     ]
    }
   ],
   "source": [
    "#Task 2. List all the available topics.\n",
    "! $KAFKA_HOME/bin/kafka-topics.sh --list --zookeeper localhost:2181"
   ]
  },
  {
   "cell_type": "code",
   "execution_count": 31,
   "metadata": {},
   "outputs": [
    {
     "name": "stdout",
     "output_type": "stream",
     "text": [
      "Topic:test-topic6\tPartitionCount:5\tReplicationFactor:2\tConfigs:\r\n",
      "\tTopic: test-topic6\tPartition: 0\tLeader: 1\tReplicas: 1,2\tIsr: 1,2\r\n",
      "\tTopic: test-topic6\tPartition: 1\tLeader: 2\tReplicas: 2,0\tIsr: 2,0\r\n",
      "\tTopic: test-topic6\tPartition: 2\tLeader: 0\tReplicas: 0,1\tIsr: 0,1\r\n",
      "\tTopic: test-topic6\tPartition: 3\tLeader: 1\tReplicas: 1,0\tIsr: 1,0\r\n",
      "\tTopic: test-topic6\tPartition: 4\tLeader: 2\tReplicas: 2,1\tIsr: 2,1\r\n"
     ]
    }
   ],
   "source": [
    "#Task 3. Describe the topic created in task 1.\n",
    "! $KAFKA_HOME/bin/kafka-topics.sh --describe --zookeeper localhost:2181 --topic test-topic6"
   ]
  },
  {
   "cell_type": "code",
   "execution_count": 32,
   "metadata": {},
   "outputs": [
    {
     "name": "stdout",
     "output_type": "stream",
     "text": [
      ">>>>>>>>>>>>>>>>>>>>>"
     ]
    }
   ],
   "source": [
    "#Task 4. Push the numbers from 1 to 20 into the topic created in task 1. Each number should be pushed as an independent action. Use kafka-console-producer.\n",
    "! seq 1 20 | $KAFKA_HOME/bin/kafka-console-producer.sh --broker-list localhost:9092 --topic test-topic6"
   ]
  },
  {
   "cell_type": "code",
   "execution_count": 33,
   "metadata": {
    "scrolled": true
   },
   "outputs": [
    {
     "name": "stdout",
     "output_type": "stream",
     "text": [
      "3\n",
      "8\n",
      "13\n",
      "18\n",
      "5\n",
      "10\n",
      "15\n",
      "20\n",
      "2\n",
      "7\n",
      "12\n",
      "17\n",
      "4\n",
      "9\n",
      "14\n",
      "19\n",
      "1\n",
      "6\n",
      "11\n",
      "16\n",
      "^C\n",
      "Processed a total of 20 messages\n"
     ]
    }
   ],
   "source": [
    "#Task 5. Fetch all the data from the topic. Make sure that Kafka doesn't store the order of messages (in this case message is a number passed to the topic). Use kafka-simple-consumer\n",
    "! $KAFKA_HOME/bin/kafka-console-consumer.sh --bootstrap-server localhost:9092 --topic test-topic6 --from-beginning"
   ]
  },
  {
   "cell_type": "code",
   "execution_count": null,
   "metadata": {},
   "outputs": [
    {
     "name": "stdout",
     "output_type": "stream",
     "text": [
      "1\r\n",
      "6\r\n",
      "11\r\n",
      "16\r\n"
     ]
    }
   ],
   "source": [
    "#Task 6. Fetch the data from the partition k, k < N.\n",
    "! $KAFKA_HOME/bin/kafka-console-consumer.sh --bootstrap-server localhost:9092 --topic test-topic6 --partition 0 --from-beginning"
   ]
  },
  {
   "cell_type": "code",
   "execution_count": 35,
   "metadata": {},
   "outputs": [
    {
     "name": "stdout",
     "output_type": "stream",
     "text": [
      "test-topic6:2:4\r\n",
      "test-topic6:4:4\r\n",
      "test-topic6:1:4\r\n",
      "test-topic6:3:4\r\n",
      "test-topic6:0:4\r\n"
     ]
    }
   ],
   "source": [
    "#Task 7. Get the latest offset from all the partitions.\n",
    "! $KAFKA_HOME/bin/kafka-run-class.sh kafka.tools.GetOffsetShell --broker-list localhost:9092 --topic test-topic6 --time -1"
   ]
  }
 ],
 "metadata": {
  "kernelspec": {
   "display_name": "Python 2",
   "language": "python",
   "name": "python2"
  },
  "language_info": {
   "codemirror_mode": {
    "name": "ipython",
    "version": 2
   },
   "file_extension": ".py",
   "mimetype": "text/x-python",
   "name": "python",
   "nbconvert_exporter": "python",
   "pygments_lexer": "ipython2",
   "version": "2.7.12"
  }
 },
 "nbformat": 4,
 "nbformat_minor": 2
}
