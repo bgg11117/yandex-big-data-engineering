{
 "cells": [
  {
   "cell_type": "code",
   "execution_count": 1,
   "metadata": {},
   "outputs": [],
   "source": [
    "import redis"
   ]
  },
  {
   "cell_type": "code",
   "execution_count": 2,
   "metadata": {},
   "outputs": [],
   "source": [
    "r = redis.StrictRedis()"
   ]
  },
  {
   "cell_type": "markdown",
   "metadata": {},
   "source": [
    "### List pushes from both sides"
   ]
  },
  {
   "cell_type": "code",
   "execution_count": 4,
   "metadata": {},
   "outputs": [
    {
     "data": {
      "text/plain": [
       "2"
      ]
     },
     "execution_count": 4,
     "metadata": {},
     "output_type": "execute_result"
    }
   ],
   "source": [
    "r.rpush('python:versions', '3.5')"
   ]
  },
  {
   "cell_type": "code",
   "execution_count": 5,
   "metadata": {},
   "outputs": [
    {
     "data": {
      "text/plain": [
       "[b'3.5', b'3.5']"
      ]
     },
     "execution_count": 5,
     "metadata": {},
     "output_type": "execute_result"
    }
   ],
   "source": [
    "r.lrange('python:versions', 0, -1)"
   ]
  },
  {
   "cell_type": "code",
   "execution_count": 6,
   "metadata": {},
   "outputs": [
    {
     "data": {
      "text/plain": [
       "7"
      ]
     },
     "execution_count": 6,
     "metadata": {},
     "output_type": "execute_result"
    }
   ],
   "source": [
    "r.rpush('python:versions', '3.6', '3.7', 'stable', '3.8', 'dev')"
   ]
  },
  {
   "cell_type": "code",
   "execution_count": 7,
   "metadata": {},
   "outputs": [
    {
     "data": {
      "text/plain": [
       "[b'3.5', b'3.5', b'3.6', b'3.7', b'stable', b'3.8', b'dev']"
      ]
     },
     "execution_count": 7,
     "metadata": {},
     "output_type": "execute_result"
    }
   ],
   "source": [
    "r.lrange('python:versions', 0, -1)"
   ]
  },
  {
   "cell_type": "code",
   "execution_count": 9,
   "metadata": {},
   "outputs": [
    {
     "data": {
      "text/plain": [
       "8"
      ]
     },
     "execution_count": 9,
     "metadata": {},
     "output_type": "execute_result"
    }
   ],
   "source": [
    "r.lpush('python:versions', '2.7')"
   ]
  },
  {
   "cell_type": "code",
   "execution_count": 10,
   "metadata": {},
   "outputs": [
    {
     "data": {
      "text/plain": [
       "[b'2.7', b'3.5', b'3.5', b'3.6', b'3.7', b'stable', b'3.8', b'dev']"
      ]
     },
     "execution_count": 10,
     "metadata": {},
     "output_type": "execute_result"
    }
   ],
   "source": [
    "r.lrange('python:versions', 0, -1)"
   ]
  },
  {
   "cell_type": "markdown",
   "metadata": {},
   "source": [
    "### Popping list elemenst"
   ]
  },
  {
   "cell_type": "code",
   "execution_count": 12,
   "metadata": {},
   "outputs": [
    {
     "data": {
      "text/plain": [
       "b'dev'"
      ]
     },
     "execution_count": 12,
     "metadata": {},
     "output_type": "execute_result"
    }
   ],
   "source": [
    "r.rpop('python:versions')"
   ]
  },
  {
   "cell_type": "code",
   "execution_count": 13,
   "metadata": {},
   "outputs": [
    {
     "data": {
      "text/plain": [
       "[b'2.7', b'3.5', b'3.5', b'3.6', b'3.7', b'stable', b'3.8']"
      ]
     },
     "execution_count": 13,
     "metadata": {},
     "output_type": "execute_result"
    }
   ],
   "source": [
    "r.lrange('python:versions', 0, -1)"
   ]
  },
  {
   "cell_type": "markdown",
   "metadata": {},
   "source": [
    "### Getting range from list"
   ]
  },
  {
   "cell_type": "code",
   "execution_count": 14,
   "metadata": {},
   "outputs": [
    {
     "data": {
      "text/plain": [
       "[b'3.6', b'3.7', b'stable', b'3.8']"
      ]
     },
     "execution_count": 14,
     "metadata": {},
     "output_type": "execute_result"
    }
   ],
   "source": [
    "r.lrange('python:versions', 3, -1)"
   ]
  },
  {
   "cell_type": "markdown",
   "metadata": {},
   "source": [
    "### Keeping same length"
   ]
  },
  {
   "cell_type": "code",
   "execution_count": 15,
   "metadata": {},
   "outputs": [
    {
     "data": {
      "text/plain": [
       "110"
      ]
     },
     "execution_count": 15,
     "metadata": {},
     "output_type": "execute_result"
    }
   ],
   "source": [
    "r.lpush('live-chat:top', *('message {}'.format(i) for i in range(110)))"
   ]
  },
  {
   "cell_type": "code",
   "execution_count": 16,
   "metadata": {
    "scrolled": false
   },
   "outputs": [
    {
     "data": {
      "text/plain": [
       "[b'message 109',\n",
       " b'message 108',\n",
       " b'message 107',\n",
       " b'message 106',\n",
       " b'message 105',\n",
       " b'message 104',\n",
       " b'message 103',\n",
       " b'message 102',\n",
       " b'message 101',\n",
       " b'message 100',\n",
       " b'message 99',\n",
       " b'message 98',\n",
       " b'message 97',\n",
       " b'message 96',\n",
       " b'message 95',\n",
       " b'message 94',\n",
       " b'message 93',\n",
       " b'message 92',\n",
       " b'message 91',\n",
       " b'message 90',\n",
       " b'message 89',\n",
       " b'message 88',\n",
       " b'message 87',\n",
       " b'message 86',\n",
       " b'message 85',\n",
       " b'message 84',\n",
       " b'message 83',\n",
       " b'message 82',\n",
       " b'message 81',\n",
       " b'message 80',\n",
       " b'message 79',\n",
       " b'message 78',\n",
       " b'message 77',\n",
       " b'message 76',\n",
       " b'message 75',\n",
       " b'message 74',\n",
       " b'message 73',\n",
       " b'message 72',\n",
       " b'message 71',\n",
       " b'message 70',\n",
       " b'message 69',\n",
       " b'message 68',\n",
       " b'message 67',\n",
       " b'message 66',\n",
       " b'message 65',\n",
       " b'message 64',\n",
       " b'message 63',\n",
       " b'message 62',\n",
       " b'message 61',\n",
       " b'message 60',\n",
       " b'message 59',\n",
       " b'message 58',\n",
       " b'message 57',\n",
       " b'message 56',\n",
       " b'message 55',\n",
       " b'message 54',\n",
       " b'message 53',\n",
       " b'message 52',\n",
       " b'message 51',\n",
       " b'message 50',\n",
       " b'message 49',\n",
       " b'message 48',\n",
       " b'message 47',\n",
       " b'message 46',\n",
       " b'message 45',\n",
       " b'message 44',\n",
       " b'message 43',\n",
       " b'message 42',\n",
       " b'message 41',\n",
       " b'message 40',\n",
       " b'message 39',\n",
       " b'message 38',\n",
       " b'message 37',\n",
       " b'message 36',\n",
       " b'message 35',\n",
       " b'message 34',\n",
       " b'message 33',\n",
       " b'message 32',\n",
       " b'message 31',\n",
       " b'message 30',\n",
       " b'message 29',\n",
       " b'message 28',\n",
       " b'message 27',\n",
       " b'message 26',\n",
       " b'message 25',\n",
       " b'message 24',\n",
       " b'message 23',\n",
       " b'message 22',\n",
       " b'message 21',\n",
       " b'message 20',\n",
       " b'message 19',\n",
       " b'message 18',\n",
       " b'message 17',\n",
       " b'message 16',\n",
       " b'message 15',\n",
       " b'message 14',\n",
       " b'message 13',\n",
       " b'message 12',\n",
       " b'message 11',\n",
       " b'message 10',\n",
       " b'message 9',\n",
       " b'message 8',\n",
       " b'message 7',\n",
       " b'message 6',\n",
       " b'message 5',\n",
       " b'message 4',\n",
       " b'message 3',\n",
       " b'message 2',\n",
       " b'message 1',\n",
       " b'message 0']"
      ]
     },
     "execution_count": 16,
     "metadata": {},
     "output_type": "execute_result"
    }
   ],
   "source": [
    "r.lrange('live-chat:top', 0, -1)"
   ]
  },
  {
   "cell_type": "code",
   "execution_count": 17,
   "metadata": {},
   "outputs": [
    {
     "data": {
      "text/plain": [
       "True"
      ]
     },
     "execution_count": 17,
     "metadata": {},
     "output_type": "execute_result"
    }
   ],
   "source": [
    "r.ltrim('live-chat:top', 0, 99)"
   ]
  },
  {
   "cell_type": "code",
   "execution_count": 18,
   "metadata": {
    "scrolled": false
   },
   "outputs": [
    {
     "data": {
      "text/plain": [
       "[b'message 109',\n",
       " b'message 108',\n",
       " b'message 107',\n",
       " b'message 106',\n",
       " b'message 105',\n",
       " b'message 104',\n",
       " b'message 103',\n",
       " b'message 102',\n",
       " b'message 101',\n",
       " b'message 100',\n",
       " b'message 99',\n",
       " b'message 98',\n",
       " b'message 97',\n",
       " b'message 96',\n",
       " b'message 95',\n",
       " b'message 94',\n",
       " b'message 93',\n",
       " b'message 92',\n",
       " b'message 91',\n",
       " b'message 90',\n",
       " b'message 89',\n",
       " b'message 88',\n",
       " b'message 87',\n",
       " b'message 86',\n",
       " b'message 85',\n",
       " b'message 84',\n",
       " b'message 83',\n",
       " b'message 82',\n",
       " b'message 81',\n",
       " b'message 80',\n",
       " b'message 79',\n",
       " b'message 78',\n",
       " b'message 77',\n",
       " b'message 76',\n",
       " b'message 75',\n",
       " b'message 74',\n",
       " b'message 73',\n",
       " b'message 72',\n",
       " b'message 71',\n",
       " b'message 70',\n",
       " b'message 69',\n",
       " b'message 68',\n",
       " b'message 67',\n",
       " b'message 66',\n",
       " b'message 65',\n",
       " b'message 64',\n",
       " b'message 63',\n",
       " b'message 62',\n",
       " b'message 61',\n",
       " b'message 60',\n",
       " b'message 59',\n",
       " b'message 58',\n",
       " b'message 57',\n",
       " b'message 56',\n",
       " b'message 55',\n",
       " b'message 54',\n",
       " b'message 53',\n",
       " b'message 52',\n",
       " b'message 51',\n",
       " b'message 50',\n",
       " b'message 49',\n",
       " b'message 48',\n",
       " b'message 47',\n",
       " b'message 46',\n",
       " b'message 45',\n",
       " b'message 44',\n",
       " b'message 43',\n",
       " b'message 42',\n",
       " b'message 41',\n",
       " b'message 40',\n",
       " b'message 39',\n",
       " b'message 38',\n",
       " b'message 37',\n",
       " b'message 36',\n",
       " b'message 35',\n",
       " b'message 34',\n",
       " b'message 33',\n",
       " b'message 32',\n",
       " b'message 31',\n",
       " b'message 30',\n",
       " b'message 29',\n",
       " b'message 28',\n",
       " b'message 27',\n",
       " b'message 26',\n",
       " b'message 25',\n",
       " b'message 24',\n",
       " b'message 23',\n",
       " b'message 22',\n",
       " b'message 21',\n",
       " b'message 20',\n",
       " b'message 19',\n",
       " b'message 18',\n",
       " b'message 17',\n",
       " b'message 16',\n",
       " b'message 15',\n",
       " b'message 14',\n",
       " b'message 13',\n",
       " b'message 12',\n",
       " b'message 11',\n",
       " b'message 10']"
      ]
     },
     "execution_count": 18,
     "metadata": {},
     "output_type": "execute_result"
    }
   ],
   "source": [
    "r.lrange('live-chat:top', 0, -1)"
   ]
  }
 ],
 "metadata": {
  "kernelspec": {
   "display_name": "Python 3",
   "language": "python",
   "name": "python3"
  },
  "language_info": {
   "codemirror_mode": {
    "name": "ipython",
    "version": 3
   },
   "file_extension": ".py",
   "mimetype": "text/x-python",
   "name": "python",
   "nbconvert_exporter": "python",
   "pygments_lexer": "ipython3",
   "version": "3.6.2"
  }
 },
 "nbformat": 4,
 "nbformat_minor": 2
}
