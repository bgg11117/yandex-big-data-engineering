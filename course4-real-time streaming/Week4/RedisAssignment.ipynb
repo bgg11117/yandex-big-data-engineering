{
 "cells": [
  {
   "cell_type": "markdown",
   "metadata": {
    "colab_type": "text",
    "id": "sd_xS8ZKs22i"
   },
   "source": [
    "# Redis Assignment"
   ]
  },
  {
   "cell_type": "markdown",
   "metadata": {
    "colab_type": "text",
    "id": "bHUYp1HZtfZd"
   },
   "source": [
    "The purpose of this task is to create the cookie syncronization service between two companies with the help of Redis."
   ]
  },
  {
   "cell_type": "markdown",
   "metadata": {
    "colab_type": "text",
    "id": "igJQUAtmvliu"
   },
   "source": [
    "Your code will be tested by calling the combination of functions:\n",
    "* `set_ttls`\n",
    "* `save_sync`\n",
    "* `get_uid`\n",
    "* `get_partner_uid`\n",
    "* `limit_rate`\n",
    "\n",
    "Hints:\n",
    "\n",
    "1. Do not forget that your `get_partner_uid` and `get_uid` functions should return decoded value if the ttl is not exired.  If ttl expires,  `get_partner_uid` and `get_uid` functions must return None\n",
    "\n",
    "2. Make sure that the function `save_sync` returns `0` as default if the `ttl` for the partner is not specified\n",
    "\n",
    "3. The function `limit_rate` must be used in both `get_partner_uid` and `get_uid` and keyname should be f\"hit:{function.__name__}:{partner_id}:{current_time_in_seconds}\" \n",
    "\n",
    "4. The function `limit_rate` must raise `LimitExceededException` if the number of calls for one partner in the last second is greater than `MAX_RPS`\n",
    "\n",
    "5. You must use the global variable `MAX_RPS` in `limit_rate` as the maximum value of the usage amount\n",
    "\n",
    "If you want to validate your code by yourself then you can find `time.sleep(seconds)` helpful"
   ]
  },
  {
   "cell_type": "code",
   "execution_count": 1,
   "metadata": {
    "colab": {},
    "colab_type": "code",
    "id": "UCgkj6gms22j"
   },
   "outputs": [],
   "source": [
    "from typing import Union, Callable\n",
    "import redis\n",
    "import time\n",
    "\n",
    "\n",
    "class LimitExceededException(Exception):\n",
    "    pass\n",
    "\n",
    "\n",
    "MAX_RPS = 5 # requests per second\n",
    "r = redis.StrictRedis(host='localhost', port=6381, db=0)"
   ]
  },
  {
   "cell_type": "code",
   "execution_count": 6,
   "metadata": {
    "colab": {},
    "colab_type": "code",
    "id": "K12-wEc8s22n"
   },
   "outputs": [],
   "source": [
    "def set_with_expire(r: redis.StrictRedis, key: str, value: str, ttl: int):\n",
    "    pipe = r.pipeline()\n",
    "    pipe.set(key, value)\n",
    "    pipe.expire(key, ttl)\n",
    "    pipe.execute()\n",
    "\n",
    "def save_sync(r: redis.StrictRedis, uid: str, partner_id: int, partner_uid: str):\n",
    "    \"\"\"Set the values for the pairs <partner_id, uid> and <partner_id, partner_uid>\n",
    " \n",
    "    Do not forget to set the ttls which you defined in the function set_ttls\n",
    "    \n",
    "    Agrs:\n",
    "        r (redis.StrictRedis): redis instance\n",
    "        uid (str): cookie uid\n",
    "        partner_id (int): id of the partner\n",
    "        partner_uid (str): uid of the partner\n",
    "  \n",
    "    Examples:\n",
    "        >>> save_sync(r, 'uid_1', 10, 'partner_uid_1')\n",
    "    \n",
    "    \"\"\"\n",
    "    b_partner_ttl = r.hget('ttls', partner_id)\n",
    "    partner_ttl = int(b_partner_ttl or 0)\n",
    "    # print(partner_ttl)\n",
    "    \n",
    "    set_with_expire(r, '{}:{}'.format(uid, partner_id), partner_uid, partner_ttl)\n",
    "    set_with_expire(r, '{}:{}'.format(partner_id, partner_uid), uid, partner_ttl)\n",
    "\n",
    "\n",
    "def limit_rate(r: redis.StrictRedis, function: Callable, partner_id: int):\n",
    "    \"\"\"Restrict function usage by MAX_RPS requests per second.\n",
    "    \n",
    "    If the amount of function calls is greater than MAX_RPS, raise LimitExceededException(f\"{MAX_RPS} limit  is reached\").\n",
    "   \n",
    "    Args:\n",
    "        r (redis.StrictRedis): redis instance\n",
    "        function (Callable): function from which limit_rate is called\n",
    "        partner_id (int): id of the partner\n",
    "       \n",
    "    Examples:\n",
    "        >>> limit_rate(r, get_partner_uid, partner_id)\n",
    "        \n",
    "    \"\"\"\n",
    "    current_time_in_seconds = int(time.time())\n",
    "    rate = r.incr(f\"hit:{function.__name__}:{partner_id}:{current_time_in_seconds}\")\n",
    "    if rate > MAX_RPS:\n",
    "        raise LimitExceededException\n",
    "\n",
    "\n",
    "def get_partner_uid(r: redis.StrictRedis, uid: str, partner_id: int):\n",
    "    \"\"\"Get the partner id by the pair (uid, partner id)\n",
    "    \n",
    "    Args:\n",
    "        r (redis.StrictRedis): redis instance\n",
    "        uid (str): cookie uid\n",
    "        partner_id (int): id of the partner\n",
    "        \n",
    "    Examples:\n",
    "        >>> get_partner_uid(r, 'e5a370cc-6bdc-43ae-baaa-8fd4531847f7', 12)\n",
    " \n",
    "    \"\"\"\n",
    "    limit_rate(r, get_partner_uid, partner_id)\n",
    "    b_partner_uid = r.get('{}:{}'.format(uid, partner_id))\n",
    "    if not b_partner_uid:\n",
    "        return None\n",
    "    return b_partner_uid.decode('utf-8')\n",
    "\n",
    "\n",
    "def get_uid(r: redis.StrictRedis, partner_id: int, partner_uid: str):\n",
    "    \"\"\"Get the uid by the pair (partner id, partner uid)\n",
    "    \n",
    "    Args:\n",
    "        r (redis.StrictRedis): redis instance\n",
    "        partner_id (int): id of partner\n",
    "        partner_uid (str): uid of partner\n",
    "        \n",
    "    Examples:\n",
    "        >>> get_uid(r, 12, '25b6e9a6-fca8-427c-94df-2577e62b2bf0')\n",
    " \n",
    "    \"\"\"\n",
    "    limit_rate(r, get_uid, partner_id)\n",
    "    b_uid = r.get('{}:{}'.format(partner_id, partner_uid))\n",
    "    if not b_uid:\n",
    "        return None\n",
    "    return b_uid.decode('utf-8')\n",
    "\n",
    "\n",
    "def set_ttls(r: redis.StrictRedis, ttls: dict):\n",
    "    \"\"\"Set the ttl by partner id\n",
    "      \n",
    "    Args:\n",
    "        r (redis.StrictRedis): redis instance\n",
    "        ttls (dict): dictionary of pairs <partner_id, ttl>\n",
    "        \n",
    "    Examples:\n",
    "        >>> set_ttls(r, {12: 5, 3: 1})\n",
    " \n",
    "    \"\"\"\n",
    "    r.hmset('ttls', ttls)"
   ]
  },
  {
   "cell_type": "code",
   "execution_count": 7,
   "metadata": {
    "colab": {},
    "colab_type": "code",
    "id": "PmoOx1KIs22q"
   },
   "outputs": [
    {
     "name": "stdout",
     "output_type": "stream",
     "text": [
      "1557179501.9911926\n",
      "1557179501.995213\n"
     ]
    },
    {
     "data": {
      "text/plain": [
       "'365402ea-1942-4dc5-a70b-c40467b49e39'"
      ]
     },
     "execution_count": 7,
     "metadata": {},
     "output_type": "execute_result"
    }
   ],
   "source": [
    "# usage examples\n",
    "\n",
    "set_ttls(r, {12: 5, 3: 0.25})\n",
    "\n",
    "save_sync(r, '365402ea-1942-4dc5-a70b-c40467b49e39', 12, '4b6b3c9e-82f4-48a7-a87e-8f9e856fe303')\n",
    "\n",
    "get_partner_uid(r, '365402ea-1942-4dc5-a70b-c40467b49e39', 12)\n",
    "# should return\n",
    "# '4b6b3c9e-82f4-48a7-a87e-8f9e856fe303'\n",
    "\n",
    "get_uid(r, 12, '4b6b3c9e-82f4-48a7-a87e-8f9e856fe303')\n",
    "# should return\n",
    "# '365402ea-1942-4dc5-a70b-c40467b49e39'"
   ]
  },
  {
   "cell_type": "code",
   "execution_count": null,
   "metadata": {},
   "outputs": [],
   "source": []
  }
 ],
 "metadata": {
  "colab": {
   "collapsed_sections": [],
   "name": "RedisAssignment.ipynb",
   "provenance": [],
   "version": "0.3.2"
  },
  "kernelspec": {
   "display_name": "Python 3",
   "language": "python",
   "name": "python3"
  },
  "language_info": {
   "codemirror_mode": {
    "name": "ipython",
    "version": 3
   },
   "file_extension": ".py",
   "mimetype": "text/x-python",
   "name": "python",
   "nbconvert_exporter": "python",
   "pygments_lexer": "ipython3",
   "version": "3.6.2"
  }
 },
 "nbformat": 4,
 "nbformat_minor": 1
}
