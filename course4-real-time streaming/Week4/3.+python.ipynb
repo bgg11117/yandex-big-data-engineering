{
 "cells": [
  {
   "cell_type": "code",
   "execution_count": 1,
   "metadata": {},
   "outputs": [],
   "source": [
    "import redis"
   ]
  },
  {
   "cell_type": "code",
   "execution_count": 2,
   "metadata": {},
   "outputs": [],
   "source": [
    "r = redis.StrictRedis(host='127.0.0.1', port=6379)"
   ]
  },
  {
   "cell_type": "code",
   "execution_count": 3,
   "metadata": {},
   "outputs": [
    {
     "data": {
      "text/plain": [
       "True"
      ]
     },
     "execution_count": 3,
     "metadata": {},
     "output_type": "execute_result"
    }
   ],
   "source": [
    "r.set('cookie:59', 'nu89nsln2cle')"
   ]
  },
  {
   "cell_type": "code",
   "execution_count": 4,
   "metadata": {},
   "outputs": [
    {
     "data": {
      "text/plain": [
       "b'nu89nsln2cle'"
      ]
     },
     "execution_count": 4,
     "metadata": {},
     "output_type": "execute_result"
    }
   ],
   "source": [
    "r.get('cookie:59')"
   ]
  },
  {
   "cell_type": "code",
   "execution_count": 5,
   "metadata": {},
   "outputs": [
    {
     "data": {
      "text/plain": [
       "bytes"
      ]
     },
     "execution_count": 5,
     "metadata": {},
     "output_type": "execute_result"
    }
   ],
   "source": [
    "type(r.get('cookie:59'))"
   ]
  },
  {
   "cell_type": "code",
   "execution_count": 6,
   "metadata": {},
   "outputs": [
    {
     "data": {
      "text/plain": [
       "'nu89nsln2cle'"
      ]
     },
     "execution_count": 6,
     "metadata": {},
     "output_type": "execute_result"
    }
   ],
   "source": [
    "r.get('cookie:59').decode('utf-8')"
   ]
  },
  {
   "cell_type": "code",
   "execution_count": 7,
   "metadata": {},
   "outputs": [
    {
     "data": {
      "text/plain": [
       "1"
      ]
     },
     "execution_count": 7,
     "metadata": {},
     "output_type": "execute_result"
    }
   ],
   "source": [
    "r.hset('post:132', 'name', 'big data course 4')"
   ]
  },
  {
   "cell_type": "code",
   "execution_count": 8,
   "metadata": {},
   "outputs": [
    {
     "data": {
      "text/plain": [
       "True"
      ]
     },
     "execution_count": 8,
     "metadata": {},
     "output_type": "execute_result"
    }
   ],
   "source": [
    "r.hmset('port:132', {'views': 1001, 'likes': 429})"
   ]
  },
  {
   "cell_type": "code",
   "execution_count": 9,
   "metadata": {},
   "outputs": [
    {
     "data": {
      "text/plain": [
       "{b'views': b'1001', b'likes': b'429'}"
      ]
     },
     "execution_count": 9,
     "metadata": {},
     "output_type": "execute_result"
    }
   ],
   "source": [
    "r.hgetall('port:132')"
   ]
  },
  {
   "cell_type": "code",
   "execution_count": 10,
   "metadata": {},
   "outputs": [
    {
     "data": {
      "text/plain": [
       "2"
      ]
     },
     "execution_count": 10,
     "metadata": {},
     "output_type": "execute_result"
    }
   ],
   "source": [
    "r.hincrby('port:132', 'bookmarks', 2)"
   ]
  },
  {
   "cell_type": "code",
   "execution_count": 11,
   "metadata": {},
   "outputs": [
    {
     "data": {
      "text/plain": [
       "{b'views': b'1001', b'likes': b'429', b'bookmarks': b'2'}"
      ]
     },
     "execution_count": 11,
     "metadata": {},
     "output_type": "execute_result"
    }
   ],
   "source": [
    "r.hgetall('port:132')"
   ]
  },
  {
   "cell_type": "code",
   "execution_count": 12,
   "metadata": {
    "scrolled": false
   },
   "outputs": [
    {
     "data": {
      "text/plain": [
       "{'dbfilename': 'dump.rdb',\n",
       " 'requirepass': '',\n",
       " 'masterauth': '',\n",
       " 'cluster-announce-ip': '',\n",
       " 'unixsocket': '',\n",
       " 'logfile': '',\n",
       " 'pidfile': '',\n",
       " 'slave-announce-ip': '',\n",
       " 'replica-announce-ip': '',\n",
       " 'maxmemory': '0',\n",
       " 'proto-max-bulk-len': '536870912',\n",
       " 'client-query-buffer-limit': '1073741824',\n",
       " 'maxmemory-samples': '5',\n",
       " 'lfu-log-factor': '10',\n",
       " 'lfu-decay-time': '1',\n",
       " 'timeout': '0',\n",
       " 'active-defrag-threshold-lower': '10',\n",
       " 'active-defrag-threshold-upper': '100',\n",
       " 'active-defrag-ignore-bytes': '104857600',\n",
       " 'active-defrag-cycle-min': '5',\n",
       " 'active-defrag-cycle-max': '75',\n",
       " 'active-defrag-max-scan-fields': '1000',\n",
       " 'auto-aof-rewrite-percentage': '100',\n",
       " 'auto-aof-rewrite-min-size': '67108864',\n",
       " 'hash-max-ziplist-entries': '512',\n",
       " 'hash-max-ziplist-value': '64',\n",
       " 'stream-node-max-bytes': '4096',\n",
       " 'stream-node-max-entries': '100',\n",
       " 'list-max-ziplist-size': '-2',\n",
       " 'list-compress-depth': '0',\n",
       " 'set-max-intset-entries': '512',\n",
       " 'zset-max-ziplist-entries': '128',\n",
       " 'zset-max-ziplist-value': '64',\n",
       " 'hll-sparse-max-bytes': '3000',\n",
       " 'lua-time-limit': '5000',\n",
       " 'slowlog-log-slower-than': '10000',\n",
       " 'latency-monitor-threshold': '0',\n",
       " 'slowlog-max-len': '128',\n",
       " 'port': '6379',\n",
       " 'cluster-announce-port': '0',\n",
       " 'cluster-announce-bus-port': '0',\n",
       " 'tcp-backlog': '511',\n",
       " 'databases': '16',\n",
       " 'repl-ping-slave-period': '10',\n",
       " 'repl-ping-replica-period': '10',\n",
       " 'repl-timeout': '60',\n",
       " 'repl-backlog-size': '1048576',\n",
       " 'repl-backlog-ttl': '3600',\n",
       " 'maxclients': '4064',\n",
       " 'watchdog-period': '0',\n",
       " 'slave-priority': '100',\n",
       " 'replica-priority': '100',\n",
       " 'slave-announce-port': '0',\n",
       " 'replica-announce-port': '0',\n",
       " 'min-slaves-to-write': '0',\n",
       " 'min-replicas-to-write': '0',\n",
       " 'min-slaves-max-lag': '10',\n",
       " 'min-replicas-max-lag': '10',\n",
       " 'hz': '10',\n",
       " 'cluster-node-timeout': '15000',\n",
       " 'cluster-migration-barrier': '1',\n",
       " 'cluster-slave-validity-factor': '10',\n",
       " 'cluster-replica-validity-factor': '10',\n",
       " 'repl-diskless-sync-delay': '5',\n",
       " 'tcp-keepalive': '300',\n",
       " 'cluster-require-full-coverage': 'yes',\n",
       " 'cluster-slave-no-failover': 'no',\n",
       " 'cluster-replica-no-failover': 'no',\n",
       " 'no-appendfsync-on-rewrite': 'no',\n",
       " 'slave-serve-stale-data': 'yes',\n",
       " 'replica-serve-stale-data': 'yes',\n",
       " 'slave-read-only': 'yes',\n",
       " 'replica-read-only': 'yes',\n",
       " 'slave-ignore-maxmemory': 'yes',\n",
       " 'replica-ignore-maxmemory': 'yes',\n",
       " 'stop-writes-on-bgsave-error': 'yes',\n",
       " 'daemonize': 'no',\n",
       " 'rdbcompression': 'yes',\n",
       " 'rdbchecksum': 'yes',\n",
       " 'activerehashing': 'yes',\n",
       " 'activedefrag': 'no',\n",
       " 'protected-mode': 'yes',\n",
       " 'repl-disable-tcp-nodelay': 'no',\n",
       " 'repl-diskless-sync': 'no',\n",
       " 'aof-rewrite-incremental-fsync': 'yes',\n",
       " 'rdb-save-incremental-fsync': 'yes',\n",
       " 'aof-load-truncated': 'yes',\n",
       " 'aof-use-rdb-preamble': 'yes',\n",
       " 'lazyfree-lazy-eviction': 'no',\n",
       " 'lazyfree-lazy-expire': 'no',\n",
       " 'lazyfree-lazy-server-del': 'no',\n",
       " 'slave-lazy-flush': 'no',\n",
       " 'replica-lazy-flush': 'no',\n",
       " 'dynamic-hz': 'yes',\n",
       " 'maxmemory-policy': 'noeviction',\n",
       " 'loglevel': 'notice',\n",
       " 'supervised': 'no',\n",
       " 'appendfsync': 'everysec',\n",
       " 'syslog-facility': 'local0',\n",
       " 'appendonly': 'no',\n",
       " 'dir': '/home/jovyan',\n",
       " 'save': '3600 1 300 100 60 10000',\n",
       " 'client-output-buffer-limit': 'normal 0 0 0 slave 268435456 67108864 60 pubsub 33554432 8388608 60',\n",
       " 'unixsocketperm': '0',\n",
       " 'slaveof': '',\n",
       " 'notify-keyspace-events': '',\n",
       " 'bind': ''}"
      ]
     },
     "execution_count": 12,
     "metadata": {},
     "output_type": "execute_result"
    }
   ],
   "source": [
    "r.config_get('*')"
   ]
  },
  {
   "cell_type": "code",
   "execution_count": 14,
   "metadata": {},
   "outputs": [
    {
     "data": {
      "text/plain": [
       "True"
      ]
     },
     "execution_count": 14,
     "metadata": {},
     "output_type": "execute_result"
    }
   ],
   "source": [
    "r.config_set('maxclients', 4000)"
   ]
  },
  {
   "cell_type": "code",
   "execution_count": 15,
   "metadata": {},
   "outputs": [
    {
     "data": {
      "text/plain": [
       "{'maxmemory': '0',\n",
       " 'maxmemory-samples': '5',\n",
       " 'maxclients': '4000',\n",
       " 'maxmemory-policy': 'noeviction'}"
      ]
     },
     "execution_count": 15,
     "metadata": {},
     "output_type": "execute_result"
    }
   ],
   "source": [
    "r.config_get('max*')"
   ]
  },
  {
   "cell_type": "code",
   "execution_count": null,
   "metadata": {},
   "outputs": [],
   "source": []
  }
 ],
 "metadata": {
  "kernelspec": {
   "display_name": "Python 3",
   "language": "python",
   "name": "python3"
  },
  "language_info": {
   "codemirror_mode": {
    "name": "ipython",
    "version": 3
   },
   "file_extension": ".py",
   "mimetype": "text/x-python",
   "name": "python",
   "nbconvert_exporter": "python",
   "pygments_lexer": "ipython3",
   "version": "3.6.2"
  }
 },
 "nbformat": 4,
 "nbformat_minor": 2
}
