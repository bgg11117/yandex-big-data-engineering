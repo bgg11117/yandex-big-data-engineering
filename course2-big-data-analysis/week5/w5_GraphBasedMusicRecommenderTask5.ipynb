{
 "cells": [
  {
   "cell_type": "code",
   "execution_count": 1,
   "metadata": {},
   "outputs": [],
   "source": [
    "from pyspark.sql import SparkSession"
   ]
  },
  {
   "cell_type": "code",
   "execution_count": 2,
   "metadata": {},
   "outputs": [],
   "source": [
    "sparkSession = SparkSession.builder.enableHiveSupport().master(\"local\").getOrCreate()"
   ]
  },
  {
   "cell_type": "code",
   "execution_count": 3,
   "metadata": {},
   "outputs": [],
   "source": [
    "from pyspark.sql import Window\n",
    "from pyspark.sql.functions import row_number, sum, col, abs, count, desc, asc"
   ]
  },
  {
   "cell_type": "code",
   "execution_count": 4,
   "metadata": {},
   "outputs": [],
   "source": [
    "data = sparkSession.read.parquet(\"/data/sample264\")\n",
    "meta = sparkSession.read.parquet(\"/data/meta\")"
   ]
  },
  {
   "cell_type": "markdown",
   "metadata": {},
   "source": [
    "# Graph based Music Recommender. Task 5\n",
    "\n",
    "For the user with Id 776748 find all the tracks and artists connected to him. Use original dataframe not a normalized one. Sort found items first by artist then by name in ascending order, leave only columns ”Artist” and “Name” and print top-40.\n",
    "\n",
    "Each output line can take one of the following forms:\n",
    "\n",
    "1. ```Artist: <artist-name> <track-name>```\n",
    "1. ```Artist: <artist-name> Artist: <artist-name>```\n",
    "\n",
    "These two forms help distinguish “user-track” suggestions (as shown in 1) from “user-artist” suggestions (as shown in 2).\n",
    "\n",
    "The part of the result on the sample dataset:\n",
    "\n",
    "    ...\n",
    "    Artist: Blur Artist: Blur\n",
    "    Artist: Blur Girls and Boys\n",
    "    Artist: Clawfinger Artist: Clawfinger\n",
    "    Artist: Clawfinger Nothing Going On\n",
    "    Artist: Disturbed Artist: Disturbed\n",
    "    ...\n",
    "\n",
    "For all subtasks use the same ipython notebook, each subtask should be the continuation of the previous"
   ]
  },
  {
   "cell_type": "code",
   "execution_count": 23,
   "metadata": {},
   "outputs": [],
   "source": [
    "user_data = data.filter(col(\"userId\") == 776748)\n",
    "tracks  = user_data.groupBy(col('trackId').alias('id')).count()\n",
    "artists = user_data.groupBy(col('artistId').alias('id')).count()\n",
    "\n",
    "users_top = (tracks.union(artists)\n",
    "           .join(meta, on=\"id\")\n",
    "           .orderBy(col('Artist'), col('Name'))\n",
    "           ).cache()"
   ]
  },
  {
   "cell_type": "code",
   "execution_count": 26,
   "metadata": {},
   "outputs": [
    {
     "name": "stdout",
     "output_type": "stream",
     "text": [
      "Artist: 3 Doors Down Artist: 3 Doors Down\n",
      "Artist: 3 Doors Down Kryptonite\n",
      "Artist: 311 Artist: 311\n",
      "Artist: 311 Beautiful disaster\n",
      "Artist: Blur Artist: Blur\n",
      "Artist: Blur Girls and Boys\n",
      "Artist: Clawfinger Artist: Clawfinger\n",
      "Artist: Clawfinger Nothing Going On\n",
      "Artist: Disturbed Artist: Disturbed\n",
      "Artist: Disturbed The Vengeful One\n",
      "Artist: Gotthard Artist: Gotthard\n",
      "Artist: Gotthard Eagle\n",
      "Artist: Green Day 21 Guns\n",
      "Artist: Green Day Artist: Green Day\n",
      "Artist: Green Day Kill The DJ\n",
      "Artist: Iggy Pop Artist: Iggy Pop\n",
      "Artist: Iggy Pop Sunday\n",
      "Artist: Korn Artist: Korn\n",
      "Artist: Korn Here To Stay\n",
      "Artist: Linkin Park Artist: Linkin Park\n",
      "Artist: Linkin Park In The End\n",
      "Artist: Linkin Park Numb\n",
      "Artist: Lordi Artist: Lordi\n",
      "Artist: Lordi Hard Rock Hallelujah\n",
      "Artist: Nickelback Artist: Nickelback\n",
      "Artist: Nickelback She Keeps Me Up\n",
      "Artist: Nomy Artist: Nomy\n",
      "Artist: Nomy Cocaine\n",
      "Artist: Papa Roach Artist: Papa Roach\n",
      "Artist: Papa Roach Getting Away With Murder\n",
      "Artist: Rise Against Artist: Rise Against\n",
      "Artist: Rise Against Prayer Of The Refugee\n",
      "Artist: Serj Tankian Artist: Serj Tankian\n",
      "Artist: Serj Tankian Sky is Over\n",
      "Artist: Slipknot Artist: Slipknot\n",
      "Artist: Slipknot Wait And Bleed\n",
      "Artist: The Offspring Artist: The Offspring\n",
      "Artist: The Offspring Come Out and Play\n",
      "Artist: Thousand Foot Krutch Artist: Thousand Foot Krutch\n",
      "Artist: Thousand Foot Krutch Take It Out On Me\n"
     ]
    }
   ],
   "source": [
    "results = (users_top\n",
    "           .select(col('Artist'), col('Name'))\n",
    "           .orderBy(col('Artist'), col('Name'))\n",
    "           .limit(40)\n",
    "          ).cache()\n",
    "\n",
    "for a, n in results.collect():\n",
    "    print(\"{} {}\".format(a,n))"
   ]
  },
  {
   "cell_type": "code",
   "execution_count": null,
   "metadata": {},
   "outputs": [],
   "source": []
  }
 ],
 "metadata": {
  "kernelspec": {
   "display_name": "Python 2",
   "language": "python",
   "name": "python2"
  },
  "language_info": {
   "codemirror_mode": {
    "name": "ipython",
    "version": 2
   },
   "file_extension": ".py",
   "mimetype": "text/x-python",
   "name": "python",
   "nbconvert_exporter": "python",
   "pygments_lexer": "ipython2",
   "version": "2.7.12"
  }
 },
 "nbformat": 4,
 "nbformat_minor": 2
}
